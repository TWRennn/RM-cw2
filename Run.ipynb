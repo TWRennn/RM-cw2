{
 "cells": [
  {
   "cell_type": "code",
   "execution_count": 27,
   "id": "2ca804fc",
   "metadata": {},
   "outputs": [],
   "source": [
    "import pandas as pd\n",
    "\n",
    "data = pd.read_csv('Results_21Mar2022.csv')\n",
    "\n",
    "relevant_data = data[['diet_group', 'mean_ghgs', 'mean_land', 'mean_watscar', 'mean_eut',\n",
    "    'mean_ghgs_ch4', 'mean_ghgs_n2o', 'mean_bio', 'mean_watuse', 'mean_acid']]\n",
    "\n",
    "grouped_data = relevant_data.groupby('diet_group').mean().reset_index()\n",
    "baseline = grouped_data[grouped_data['diet_group'] == 'meat100'].iloc[0]\n",
    "\n",
    "normalized_data = grouped_data.copy()\n",
    "for col in normalized_data.columns[1:]:\n",
    "    normalized_data[col] = normalized_data[col] / baseline[col]\n",
    "\n",
    "long_format = normalized_data.melt(id_vars=['diet_group'], var_name='items', value_name='amount')\n",
    "\n",
    "long_format\n",
    "long_format.to_csv('long_format.csv', index=False)\n"
   ]
  }
 ],
 "metadata": {
  "kernelspec": {
   "display_name": "Python 3 (ipykernel)",
   "language": "python",
   "name": "python3"
  },
  "language_info": {
   "codemirror_mode": {
    "name": "ipython",
    "version": 3
   },
   "file_extension": ".py",
   "mimetype": "text/x-python",
   "name": "python",
   "nbconvert_exporter": "python",
   "pygments_lexer": "ipython3",
   "version": "3.12.0"
  }
 },
 "nbformat": 4,
 "nbformat_minor": 5
}
